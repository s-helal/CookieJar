{
 "cells": [
  {
   "cell_type": "code",
   "execution_count": 85,
   "metadata": {},
   "outputs": [],
   "source": [
    "## import preprocessing libraries\n",
    "import pandas as pd\n",
    "import numpy as np\n",
    "import matplotlib.pyplot as plt"
   ]
  },
  {
   "cell_type": "code",
   "execution_count": 86,
   "metadata": {},
   "outputs": [],
   "source": [
    "## read train and test data into pandas dataframes\n",
    "df_train = pd.read_csv('./sign_mnist_train/sign_mnist_train.csv')\n",
    "df_test = pd.read_csv('./sign_mnist_test/sign_mnist_test.csv')"
   ]
  },
  {
   "cell_type": "code",
   "execution_count": 89,
   "metadata": {},
   "outputs": [
    {
     "data": {
      "text/html": [
       "<div>\n",
       "<style scoped>\n",
       "    .dataframe tbody tr th:only-of-type {\n",
       "        vertical-align: middle;\n",
       "    }\n",
       "\n",
       "    .dataframe tbody tr th {\n",
       "        vertical-align: top;\n",
       "    }\n",
       "\n",
       "    .dataframe thead th {\n",
       "        text-align: right;\n",
       "    }\n",
       "</style>\n",
       "<table border=\"1\" class=\"dataframe\">\n",
       "  <thead>\n",
       "    <tr style=\"text-align: right;\">\n",
       "      <th></th>\n",
       "      <th>label</th>\n",
       "      <th>pixel1</th>\n",
       "      <th>pixel2</th>\n",
       "      <th>pixel3</th>\n",
       "      <th>pixel4</th>\n",
       "      <th>pixel5</th>\n",
       "      <th>pixel6</th>\n",
       "      <th>pixel7</th>\n",
       "      <th>pixel8</th>\n",
       "      <th>pixel9</th>\n",
       "      <th>...</th>\n",
       "      <th>pixel775</th>\n",
       "      <th>pixel776</th>\n",
       "      <th>pixel777</th>\n",
       "      <th>pixel778</th>\n",
       "      <th>pixel779</th>\n",
       "      <th>pixel780</th>\n",
       "      <th>pixel781</th>\n",
       "      <th>pixel782</th>\n",
       "      <th>pixel783</th>\n",
       "      <th>pixel784</th>\n",
       "    </tr>\n",
       "  </thead>\n",
       "  <tbody>\n",
       "    <tr>\n",
       "      <th>0</th>\n",
       "      <td>3</td>\n",
       "      <td>107</td>\n",
       "      <td>118</td>\n",
       "      <td>127</td>\n",
       "      <td>134</td>\n",
       "      <td>139</td>\n",
       "      <td>143</td>\n",
       "      <td>146</td>\n",
       "      <td>150</td>\n",
       "      <td>153</td>\n",
       "      <td>...</td>\n",
       "      <td>207</td>\n",
       "      <td>207</td>\n",
       "      <td>207</td>\n",
       "      <td>207</td>\n",
       "      <td>206</td>\n",
       "      <td>206</td>\n",
       "      <td>206</td>\n",
       "      <td>204</td>\n",
       "      <td>203</td>\n",
       "      <td>202</td>\n",
       "    </tr>\n",
       "    <tr>\n",
       "      <th>1</th>\n",
       "      <td>6</td>\n",
       "      <td>155</td>\n",
       "      <td>157</td>\n",
       "      <td>156</td>\n",
       "      <td>156</td>\n",
       "      <td>156</td>\n",
       "      <td>157</td>\n",
       "      <td>156</td>\n",
       "      <td>158</td>\n",
       "      <td>158</td>\n",
       "      <td>...</td>\n",
       "      <td>69</td>\n",
       "      <td>149</td>\n",
       "      <td>128</td>\n",
       "      <td>87</td>\n",
       "      <td>94</td>\n",
       "      <td>163</td>\n",
       "      <td>175</td>\n",
       "      <td>103</td>\n",
       "      <td>135</td>\n",
       "      <td>149</td>\n",
       "    </tr>\n",
       "    <tr>\n",
       "      <th>2</th>\n",
       "      <td>2</td>\n",
       "      <td>187</td>\n",
       "      <td>188</td>\n",
       "      <td>188</td>\n",
       "      <td>187</td>\n",
       "      <td>187</td>\n",
       "      <td>186</td>\n",
       "      <td>187</td>\n",
       "      <td>188</td>\n",
       "      <td>187</td>\n",
       "      <td>...</td>\n",
       "      <td>202</td>\n",
       "      <td>201</td>\n",
       "      <td>200</td>\n",
       "      <td>199</td>\n",
       "      <td>198</td>\n",
       "      <td>199</td>\n",
       "      <td>198</td>\n",
       "      <td>195</td>\n",
       "      <td>194</td>\n",
       "      <td>195</td>\n",
       "    </tr>\n",
       "    <tr>\n",
       "      <th>3</th>\n",
       "      <td>2</td>\n",
       "      <td>211</td>\n",
       "      <td>211</td>\n",
       "      <td>212</td>\n",
       "      <td>212</td>\n",
       "      <td>211</td>\n",
       "      <td>210</td>\n",
       "      <td>211</td>\n",
       "      <td>210</td>\n",
       "      <td>210</td>\n",
       "      <td>...</td>\n",
       "      <td>235</td>\n",
       "      <td>234</td>\n",
       "      <td>233</td>\n",
       "      <td>231</td>\n",
       "      <td>230</td>\n",
       "      <td>226</td>\n",
       "      <td>225</td>\n",
       "      <td>222</td>\n",
       "      <td>229</td>\n",
       "      <td>163</td>\n",
       "    </tr>\n",
       "    <tr>\n",
       "      <th>4</th>\n",
       "      <td>13</td>\n",
       "      <td>164</td>\n",
       "      <td>167</td>\n",
       "      <td>170</td>\n",
       "      <td>172</td>\n",
       "      <td>176</td>\n",
       "      <td>179</td>\n",
       "      <td>180</td>\n",
       "      <td>184</td>\n",
       "      <td>185</td>\n",
       "      <td>...</td>\n",
       "      <td>92</td>\n",
       "      <td>105</td>\n",
       "      <td>105</td>\n",
       "      <td>108</td>\n",
       "      <td>133</td>\n",
       "      <td>163</td>\n",
       "      <td>157</td>\n",
       "      <td>163</td>\n",
       "      <td>164</td>\n",
       "      <td>179</td>\n",
       "    </tr>\n",
       "  </tbody>\n",
       "</table>\n",
       "<p>5 rows × 785 columns</p>\n",
       "</div>"
      ],
      "text/plain": [
       "   label  pixel1  pixel2  pixel3  pixel4  pixel5  pixel6  pixel7  pixel8  \\\n",
       "0      3     107     118     127     134     139     143     146     150   \n",
       "1      6     155     157     156     156     156     157     156     158   \n",
       "2      2     187     188     188     187     187     186     187     188   \n",
       "3      2     211     211     212     212     211     210     211     210   \n",
       "4     13     164     167     170     172     176     179     180     184   \n",
       "\n",
       "   pixel9  ...  pixel775  pixel776  pixel777  pixel778  pixel779  pixel780  \\\n",
       "0     153  ...       207       207       207       207       206       206   \n",
       "1     158  ...        69       149       128        87        94       163   \n",
       "2     187  ...       202       201       200       199       198       199   \n",
       "3     210  ...       235       234       233       231       230       226   \n",
       "4     185  ...        92       105       105       108       133       163   \n",
       "\n",
       "   pixel781  pixel782  pixel783  pixel784  \n",
       "0       206       204       203       202  \n",
       "1       175       103       135       149  \n",
       "2       198       195       194       195  \n",
       "3       225       222       229       163  \n",
       "4       157       163       164       179  \n",
       "\n",
       "[5 rows x 785 columns]"
      ]
     },
     "execution_count": 89,
     "metadata": {},
     "output_type": "execute_result"
    }
   ],
   "source": [
    "## view df\n",
    "df_train.head()"
   ]
  },
  {
   "cell_type": "code",
   "execution_count": 90,
   "metadata": {},
   "outputs": [],
   "source": [
    "## separate labels and images\n",
    "X_train = df_train.iloc[:,1:].values\n",
    "y_train = df_train.iloc[:,0].values\n",
    "\n",
    "X_test = df_test.iloc[:,1:].values\n",
    "y_test = df_test.iloc[:,0].values\n",
    "\n",
    "## reshape each sample (-1) into (28,28,1) from (784)\n",
    "X_train = X_train.reshape(-1,28,28,1)\n",
    "X_test = X_test.reshape(-1,28,28,1)"
   ]
  },
  {
   "cell_type": "code",
   "execution_count": 25,
   "metadata": {},
   "outputs": [
    {
     "data": {
      "image/png": "[encoded data removed]",
      "text/plain": [
       "<Figure size 432x288 with 1 Axes>"
      ]
     },
     "metadata": {
      "needs_background": "light"
     },
     "output_type": "display_data"
    },
    {
     "data": {
      "text/plain": [
       "<Figure size 432x288 with 0 Axes>"
      ]
     },
     "metadata": {},
     "output_type": "display_data"
    }
   ],
   "source": [
    "## show and save a sample as image\n",
    "imtest = X_train[1]\n",
    "plt.imshow(imtest, cmap = \"gray\") \n",
    "fig1 = plt.gcf()\n",
    "plt.axis('off')\n",
    "plt.show()\n",
    "plt.draw()\n",
    "fig1.savefig('sample.png', bbox_inches='tight', pad_inches=0)"
   ]
  },
  {
   "cell_type": "code",
   "execution_count": 92,
   "metadata": {
    "collapsed": true
   },
   "outputs": [
    {
     "name": "stdout",
     "output_type": "stream",
     "text": [
      "1126\n",
      "1010\n",
      "1144\n",
      "1196\n",
      "957\n",
      "1204\n",
      "1090\n",
      "1013\n",
      "1162\n",
      "0\n",
      "1114\n",
      "1241\n",
      "1055\n",
      "1151\n",
      "1196\n",
      "1088\n",
      "1279\n",
      "1294\n",
      "1199\n",
      "1186\n",
      "1161\n",
      "1082\n",
      "1225\n",
      "1164\n",
      "1118\n",
      "0\n"
     ]
    }
   ],
   "source": [
    "for i in range(26):\n",
    "    print(sum(y_train==i))\n",
    "# no letters j or z"
   ]
  },
  {
   "cell_type": "code",
   "execution_count": 113,
   "metadata": {},
   "outputs": [],
   "source": [
    "## import NN libraries\n",
    "import tensorflow as tf\n",
    "from tensorflow.keras.preprocessing.image import ImageDataGenerator\n",
    "import time"
   ]
  },
  {
   "cell_type": "code",
   "execution_count": 123,
   "metadata": {},
   "outputs": [],
   "source": [
    "## Create an image data generator for image augmentation (expands and varies the dataset)\n",
    "train_datagen = ImageDataGenerator(\n",
    "    rescale = 1 / 255,\n",
    "    rotation_range = 45,\n",
    "    width_shift_range = 0.20,\n",
    "    height_shift_range = 0.20,\n",
    "    shear_range = 0.20,\n",
    "    zoom_range = 0.20,\n",
    "    horizontal_flip = True,\n",
    "    brightness_range = [0.5,1], # darker images\n",
    "    fill_mode = 'nearest'\n",
    ")\n",
    "\n",
    "valid_datagen = ImageDataGenerator(rescale = 1 / 255)"
   ]
  },
  {
   "cell_type": "code",
   "execution_count": 124,
   "metadata": {},
   "outputs": [],
   "source": [
    "## construct the NN model\n",
    "model = tf.keras.models.Sequential([\n",
    "    tf.keras.layers.Conv2D(32, (3,3), activation = 'relu', input_shape = (28, 28, 1)),\n",
    "    tf.keras.layers.MaxPooling2D(2,2),\n",
    "    tf.keras.layers.Conv2D(32, (3,3), activation = 'relu'),\n",
    "    tf.keras.layers.MaxPooling2D(2,2),\n",
    "    tf.keras.layers.Flatten(),\n",
    "    tf.keras.layers.Dense(512, activation = 'relu'),\n",
    "    tf.keras.layers.Dense(26, activation = 'softmax')\n",
    "])\n",
    "\n",
    "## compile the model\n",
    "model.compile(\n",
    "    loss = 'sparse_categorical_crossentropy',\n",
    "    optimizer = 'adam',\n",
    "    metrics = ['accuracy']\n",
    ")"
   ]
  },
  {
   "cell_type": "code",
   "execution_count": 125,
   "metadata": {},
   "outputs": [
    {
     "name": "stdout",
     "output_type": "stream",
     "text": [
      "WARNING:tensorflow:sample_weight modes were coerced from\n",
      "  ...\n",
      "    to  \n",
      "  ['...']\n",
      "WARNING:tensorflow:sample_weight modes were coerced from\n",
      "  ...\n",
      "    to  \n",
      "  ['...']\n",
      "Train for 857.96875 steps, validate for 224.125 steps\n",
      "Epoch 1/10\n",
      "858/857 [==============================] - 30s 35ms/step - loss: 2.7702 - accuracy: 0.1573 - val_loss: 1.9642 - val_accuracy: 0.3385\n",
      "Epoch 2/10\n",
      "858/857 [==============================] - 33s 39ms/step - loss: 2.0793 - accuracy: 0.3414 - val_loss: 1.3747 - val_accuracy: 0.5197\n",
      "Epoch 3/10\n",
      "858/857 [==============================] - 30s 35ms/step - loss: 1.6794 - accuracy: 0.4580 - val_loss: 1.0378 - val_accuracy: 0.6511\n",
      "Epoch 4/10\n",
      "858/857 [==============================] - 31s 37ms/step - loss: 1.4189 - accuracy: 0.5401 - val_loss: 1.0898 - val_accuracy: 0.6241\n",
      "Epoch 5/10\n",
      "858/857 [==============================] - 29s 33ms/step - loss: 1.2186 - accuracy: 0.6018 - val_loss: 0.7459 - val_accuracy: 0.7243\n",
      "Epoch 6/10\n",
      "858/857 [==============================] - 32s 37ms/step - loss: 1.0766 - accuracy: 0.6505 - val_loss: 0.5670 - val_accuracy: 0.7844\n",
      "Epoch 7/10\n",
      "858/857 [==============================] - 27s 32ms/step - loss: 0.9610 - accuracy: 0.6876 - val_loss: 0.4767 - val_accuracy: 0.8298\n",
      "Epoch 8/10\n",
      "858/857 [==============================] - 28s 33ms/step - loss: 0.8795 - accuracy: 0.7147 - val_loss: 0.5743 - val_accuracy: 0.7864\n",
      "Epoch 9/10\n",
      "858/857 [==============================] - 31s 36ms/step - loss: 0.8056 - accuracy: 0.7351 - val_loss: 0.4521 - val_accuracy: 0.8370\n",
      "Epoch 10/10\n",
      "858/857 [==============================] - 33s 38ms/step - loss: 0.7349 - accuracy: 0.7595 - val_loss: 0.3975 - val_accuracy: 0.8472\n",
      "--- 5.118325765927633 minutes ---\n"
     ]
    }
   ],
   "source": [
    "## setup to train the model\n",
    "my_batch_size = 32\n",
    "my_epochs = 10\n",
    "\n",
    "import time\n",
    "start_time = time.time()\n",
    "## fit the model (train)\n",
    "history = model.fit(train_datagen.flow(X_train, y_train, batch_size = my_batch_size),\n",
    "              steps_per_epoch = len(X_train) / my_batch_size,\n",
    "              epochs = my_epochs,\n",
    "              validation_data = valid_datagen.flow(X_test, y_test, batch_size = my_batch_size),\n",
    "              validation_steps = len(y_test) / my_batch_size\n",
    "             )\n",
    "\n",
    "print(\"--- %s minutes ---\" % ((time.time() - start_time) / 60))"
   ]
  },
  {
   "cell_type": "code",
   "execution_count": 126,
   "metadata": {},
   "outputs": [
    {
     "data": {
      "text/plain": [
       "[0.15727554,\n",
       " 0.34143144,\n",
       " 0.4580222,\n",
       " 0.54008377,\n",
       " 0.60178477,\n",
       " 0.6504826,\n",
       " 0.6876343,\n",
       " 0.7147332,\n",
       " 0.7351302,\n",
       " 0.75953376]"
      ]
     },
     "execution_count": 126,
     "metadata": {},
     "output_type": "execute_result"
    }
   ],
   "source": [
    "## get model accuracy over time\n",
    "history.history['accuracy']"
   ]
  },
  {
   "cell_type": "code",
   "execution_count": 127,
   "metadata": {},
   "outputs": [
    {
     "name": "stdout",
     "output_type": "stream",
     "text": [
      "7172/7172 - 2s - loss: 62.4777 - accuracy: 0.8311\n"
     ]
    },
    {
     "data": {
      "text/plain": [
       "[62.477741256347926, 0.8311489]"
      ]
     },
     "execution_count": 127,
     "metadata": {},
     "output_type": "execute_result"
    }
   ],
   "source": [
    "## evaluate the model\n",
    "model.evaluate(X_test, y_test, verbose = 2)"
   ]
  },
  {
   "cell_type": "code",
   "execution_count": 130,
   "metadata": {
    "collapsed": true
   },
   "outputs": [
    {
     "name": "stdout",
     "output_type": "stream",
     "text": [
      "Requirement already satisfied: tensorflowjs in c:\\users\\samih\\anaconda3\\envs\\tf\\lib\\site-packages (2.8.4)\n",
      "Requirement already satisfied: h5py<3,>=2.8.0 in c:\\users\\samih\\anaconda3\\envs\\tf\\lib\\site-packages (from tensorflowjs) (2.10.0)\n",
      "Requirement already satisfied: six<2,>=1.12.0 in c:\\users\\samih\\anaconda3\\envs\\tf\\lib\\site-packages (from tensorflowjs) (1.15.0)\n",
      "Requirement already satisfied: tensorflow-hub<0.10,>=0.7.0 in c:\\users\\samih\\anaconda3\\envs\\tf\\lib\\site-packages (from tensorflowjs) (0.9.0)\n",
      "Requirement already satisfied: tensorflow<3,>=2.1.0 in c:\\users\\samih\\anaconda3\\envs\\tf\\lib\\site-packages (from tensorflowjs) (2.1.0)\n",
      "Requirement already satisfied: numpy>=1.7 in c:\\users\\samih\\anaconda3\\envs\\tf\\lib\\site-packages (from h5py<3,>=2.8.0->tensorflowjs) (1.19.2)\n",
      "Requirement already satisfied: protobuf>=3.8.0 in c:\\users\\samih\\anaconda3\\envs\\tf\\lib\\site-packages (from tensorflow-hub<0.10,>=0.7.0->tensorflowjs) (3.13.0)\n",
      "Requirement already satisfied: scipy==1.4.1; python_version >= \"3\" in c:\\users\\samih\\anaconda3\\envs\\tf\\lib\\site-packages (from tensorflow<3,>=2.1.0->tensorflowjs) (1.4.1)\n",
      "Requirement already satisfied: grpcio>=1.8.6 in c:\\users\\samih\\anaconda3\\envs\\tf\\lib\\site-packages (from tensorflow<3,>=2.1.0->tensorflowjs) (1.31.0)\n",
      "Requirement already satisfied: termcolor>=1.1.0 in c:\\users\\samih\\anaconda3\\envs\\tf\\lib\\site-packages (from tensorflow<3,>=2.1.0->tensorflowjs) (1.1.0)\n",
      "Requirement already satisfied: opt-einsum>=2.3.2 in c:\\users\\samih\\anaconda3\\envs\\tf\\lib\\site-packages (from tensorflow<3,>=2.1.0->tensorflowjs) (3.1.0)\n",
      "Collecting tensorboard<2.2.0,>=2.1.0\n",
      "  Using cached tensorboard-2.1.1-py3-none-any.whl (3.8 MB)\n",
      "Requirement already satisfied: keras-preprocessing>=1.1.0 in c:\\users\\samih\\anaconda3\\envs\\tf\\lib\\site-packages (from tensorflow<3,>=2.1.0->tensorflowjs) (1.1.0)\n",
      "Requirement already satisfied: astor>=0.6.0 in c:\\users\\samih\\anaconda3\\envs\\tf\\lib\\site-packages (from tensorflow<3,>=2.1.0->tensorflowjs) (0.8.1)\n",
      "Requirement already satisfied: keras-applications>=1.0.8 in c:\\users\\samih\\anaconda3\\envs\\tf\\lib\\site-packages (from tensorflow<3,>=2.1.0->tensorflowjs) (1.0.8)\n",
      "Requirement already satisfied: google-pasta>=0.1.6 in c:\\users\\samih\\anaconda3\\envs\\tf\\lib\\site-packages (from tensorflow<3,>=2.1.0->tensorflowjs) (0.2.0)\n",
      "Requirement already satisfied: wrapt>=1.11.1 in c:\\users\\samih\\anaconda3\\envs\\tf\\lib\\site-packages (from tensorflow<3,>=2.1.0->tensorflowjs) (1.12.1)\n",
      "Requirement already satisfied: gast==0.2.2 in c:\\users\\samih\\anaconda3\\envs\\tf\\lib\\site-packages (from tensorflow<3,>=2.1.0->tensorflowjs) (0.2.2)\n",
      "Requirement already satisfied: tensorflow-estimator<2.2.0,>=2.1.0rc0 in c:\\users\\samih\\anaconda3\\envs\\tf\\lib\\site-packages (from tensorflow<3,>=2.1.0->tensorflowjs) (2.1.0)\n",
      "Requirement already satisfied: wheel>=0.26; python_version >= \"3\" in c:\\users\\samih\\anaconda3\\envs\\tf\\lib\\site-packages (from tensorflow<3,>=2.1.0->tensorflowjs) (0.35.1)\n",
      "Requirement already satisfied: absl-py>=0.7.0 in c:\\users\\samih\\anaconda3\\envs\\tf\\lib\\site-packages (from tensorflow<3,>=2.1.0->tensorflowjs) (0.11.0)\n",
      "Requirement already satisfied: setuptools in c:\\users\\samih\\anaconda3\\envs\\tf\\lib\\site-packages (from protobuf>=3.8.0->tensorflow-hub<0.10,>=0.7.0->tensorflowjs) (50.3.0.post20201006)\n",
      "Requirement already satisfied: markdown>=2.6.8 in c:\\users\\samih\\anaconda3\\envs\\tf\\lib\\site-packages (from tensorboard<2.2.0,>=2.1.0->tensorflow<3,>=2.1.0->tensorflowjs) (3.3.2)\n",
      "Requirement already satisfied: werkzeug>=0.11.15 in c:\\users\\samih\\anaconda3\\envs\\tf\\lib\\site-packages (from tensorboard<2.2.0,>=2.1.0->tensorflow<3,>=2.1.0->tensorflowjs) (0.16.1)\n",
      "Requirement already satisfied: google-auth-oauthlib<0.5,>=0.4.1 in c:\\users\\samih\\anaconda3\\envs\\tf\\lib\\site-packages (from tensorboard<2.2.0,>=2.1.0->tensorflow<3,>=2.1.0->tensorflowjs) (0.4.2)\n",
      "Requirement already satisfied: requests<3,>=2.21.0 in c:\\users\\samih\\anaconda3\\envs\\tf\\lib\\site-packages (from tensorboard<2.2.0,>=2.1.0->tensorflow<3,>=2.1.0->tensorflowjs) (2.24.0)\n",
      "Requirement already satisfied: google-auth<2,>=1.6.3 in c:\\users\\samih\\anaconda3\\envs\\tf\\lib\\site-packages (from tensorboard<2.2.0,>=2.1.0->tensorflow<3,>=2.1.0->tensorflowjs) (1.22.1)\n",
      "Requirement already satisfied: importlib-metadata; python_version < \"3.8\" in c:\\users\\samih\\anaconda3\\envs\\tf\\lib\\site-packages (from markdown>=2.6.8->tensorboard<2.2.0,>=2.1.0->tensorflow<3,>=2.1.0->tensorflowjs) (2.0.0)\n",
      "Requirement already satisfied: requests-oauthlib>=0.7.0 in c:\\users\\samih\\anaconda3\\envs\\tf\\lib\\site-packages (from google-auth-oauthlib<0.5,>=0.4.1->tensorboard<2.2.0,>=2.1.0->tensorflow<3,>=2.1.0->tensorflowjs) (1.3.0)\n",
      "Requirement already satisfied: chardet<4,>=3.0.2 in c:\\users\\samih\\anaconda3\\envs\\tf\\lib\\site-packages (from requests<3,>=2.21.0->tensorboard<2.2.0,>=2.1.0->tensorflow<3,>=2.1.0->tensorflowjs) (3.0.4)\n",
      "Requirement already satisfied: urllib3!=1.25.0,!=1.25.1,<1.26,>=1.21.1 in c:\\users\\samih\\anaconda3\\envs\\tf\\lib\\site-packages (from requests<3,>=2.21.0->tensorboard<2.2.0,>=2.1.0->tensorflow<3,>=2.1.0->tensorflowjs) (1.25.11)\n",
      "Requirement already satisfied: certifi>=2017.4.17 in c:\\users\\samih\\anaconda3\\envs\\tf\\lib\\site-packages (from requests<3,>=2.21.0->tensorboard<2.2.0,>=2.1.0->tensorflow<3,>=2.1.0->tensorflowjs) (2020.6.20)\n",
      "Requirement already satisfied: idna<3,>=2.5 in c:\\users\\samih\\anaconda3\\envs\\tf\\lib\\site-packages (from requests<3,>=2.21.0->tensorboard<2.2.0,>=2.1.0->tensorflow<3,>=2.1.0->tensorflowjs) (2.10)\n",
      "Requirement already satisfied: cachetools<5.0,>=2.0.0 in c:\\users\\samih\\anaconda3\\envs\\tf\\lib\\site-packages (from google-auth<2,>=1.6.3->tensorboard<2.2.0,>=2.1.0->tensorflow<3,>=2.1.0->tensorflowjs) (4.1.1)\n",
      "Requirement already satisfied: pyasn1-modules>=0.2.1 in c:\\users\\samih\\anaconda3\\envs\\tf\\lib\\site-packages (from google-auth<2,>=1.6.3->tensorboard<2.2.0,>=2.1.0->tensorflow<3,>=2.1.0->tensorflowjs) (0.2.8)\n",
      "Requirement already satisfied: rsa<5,>=3.1.4; python_version >= \"3.5\" in c:\\users\\samih\\anaconda3\\envs\\tf\\lib\\site-packages (from google-auth<2,>=1.6.3->tensorboard<2.2.0,>=2.1.0->tensorflow<3,>=2.1.0->tensorflowjs) (4.6)\n",
      "Requirement already satisfied: zipp>=0.5 in c:\\users\\samih\\anaconda3\\envs\\tf\\lib\\site-packages (from importlib-metadata; python_version < \"3.8\"->markdown>=2.6.8->tensorboard<2.2.0,>=2.1.0->tensorflow<3,>=2.1.0->tensorflowjs) (3.3.1)\n",
      "Requirement already satisfied: oauthlib>=3.0.0 in c:\\users\\samih\\anaconda3\\envs\\tf\\lib\\site-packages (from requests-oauthlib>=0.7.0->google-auth-oauthlib<0.5,>=0.4.1->tensorboard<2.2.0,>=2.1.0->tensorflow<3,>=2.1.0->tensorflowjs) (3.1.0)\n",
      "Requirement already satisfied: pyasn1<0.5.0,>=0.4.6 in c:\\users\\samih\\anaconda3\\envs\\tf\\lib\\site-packages (from pyasn1-modules>=0.2.1->google-auth<2,>=1.6.3->tensorboard<2.2.0,>=2.1.0->tensorflow<3,>=2.1.0->tensorflowjs) (0.4.8)\n",
      "Installing collected packages: tensorboard\n",
      "  Attempting uninstall: tensorboard\n",
      "    Found existing installation: tensorboard 2.2.1\n",
      "    Uninstalling tensorboard-2.2.1:\n",
      "      Successfully uninstalled tensorboard-2.2.1\n",
      "Successfully installed tensorboard-2.1.1\n"
     ]
    },
    {
     "name": "stderr",
     "output_type": "stream",
     "text": [
      "Traceback (most recent call last):\n",
      "  File \"c:\\users\\samih\\anaconda3\\envs\\tf\\lib\\runpy.py\", line 193, in _run_module_as_main\n",
      "    \"__main__\", mod_spec)\n",
      "  File \"c:\\users\\samih\\anaconda3\\envs\\tf\\lib\\runpy.py\", line 85, in _run_code\n",
      "    exec(code, run_globals)\n",
      "  File \"C:\\Users\\samih\\anaconda3\\envs\\tf\\Scripts\\tensorflowjs_converter.exe\\__main__.py\", line 7, in <module>\n",
      "  File \"c:\\users\\samih\\anaconda3\\envs\\tf\\lib\\site-packages\\tensorflowjs\\converters\\converter.py\", line 813, in pip_main\n",
      "    main([' '.join(sys.argv[1:])])\n",
      "  File \"c:\\users\\samih\\anaconda3\\envs\\tf\\lib\\site-packages\\tensorflowjs\\converters\\converter.py\", line 817, in main\n",
      "    convert(argv[0].split(' '))\n",
      "  File \"c:\\users\\samih\\anaconda3\\envs\\tf\\lib\\site-packages\\tensorflowjs\\converters\\converter.py\", line 804, in convert\n",
      "    weight_shard_size_bytes, metadata_map)\n",
      "  File \"c:\\users\\samih\\anaconda3\\envs\\tf\\lib\\site-packages\\tensorflowjs\\converters\\converter.py\", line 501, in _dispatch_converter\n",
      "    metadata=metadata_map)\n",
      "  File \"c:\\users\\samih\\anaconda3\\envs\\tf\\lib\\site-packages\\tensorflowjs\\converters\\converter.py\", line 76, in dispatch_keras_h5_to_tfjs_layers_model_conversion\n",
      "    raise ValueError('Nonexistent path to HDF5 file: %s' % h5_path)\n",
      "ValueError: Nonexistent path to HDF5 file: ‘/content/model.h5’\n"
     ]
    }
   ],
   "source": [
    "# !pip install tensorflowjs"
   ]
  },
  {
   "cell_type": "code",
   "execution_count": 138,
   "metadata": {},
   "outputs": [],
   "source": [
    "import tensorflowjs as tfjs\n",
    "tfjs.converters.save_keras_model(model, '.\\content')"
   ]
  },
  {
   "cell_type": "code",
   "execution_count": 143,
   "metadata": {},
   "outputs": [],
   "source": [
    "model.save('model.h5')"
   ]
  }
 ],
 "metadata": {
  "kernelspec": {
   "display_name": "Python 3",
   "language": "python",
   "name": "python3"
  },
  "language_info": {
   "codemirror_mode": {
    "name": "ipython",
    "version": 3
   },
   "file_extension": ".py",
   "mimetype": "text/x-python",
   "name": "python",
   "nbconvert_exporter": "python",
   "pygments_lexer": "ipython3",
   "version": "3.7.9"
  }
 },
 "nbformat": 4,
 "nbformat_minor": 4
}
